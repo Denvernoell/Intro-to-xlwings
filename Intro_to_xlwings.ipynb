{
 "cells": [
  {
   "cell_type": "code",
   "execution_count": 1,
   "metadata": {},
   "outputs": [],
   "source": [
    "try:\n",
    "\timport xlwings as xw\n",
    "except:\n",
    "\t!pip install xlwings\n",
    "\timport xlwings as xw"
   ]
  },
  {
   "cell_type": "code",
   "execution_count": null,
   "metadata": {},
   "outputs": [],
   "source": [
    "wb = xw.Book('Intro_to_xlwings.xlsx')\n",
    "wb = xw.books.active"
   ]
  }
 ],
 "metadata": {
  "interpreter": {
   "hash": "6436bbd3a7d17a26d6e6ecd4e9eeaf95b5bf89cd64ac72f36c25e562c9484423"
  },
  "kernelspec": {
   "display_name": "Python 3.8.3 64-bit ('base': conda)",
   "language": "python",
   "name": "python3"
  },
  "language_info": {
   "codemirror_mode": {
    "name": "ipython",
    "version": 3
   },
   "file_extension": ".py",
   "mimetype": "text/x-python",
   "name": "python",
   "nbconvert_exporter": "python",
   "pygments_lexer": "ipython3",
   "version": "3.8.3"
  },
  "orig_nbformat": 4
 },
 "nbformat": 4,
 "nbformat_minor": 2
}
